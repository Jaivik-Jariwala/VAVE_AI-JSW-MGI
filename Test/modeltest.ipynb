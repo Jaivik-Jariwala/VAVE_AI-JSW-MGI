{
 "cells": [
  {
   "cell_type": "code",
   "execution_count": 1,
   "id": "4ad30226",
   "metadata": {},
   "outputs": [
    {
     "name": "stderr",
     "output_type": "stream",
     "text": [
      "C:\\Users\\ASUS\\AppData\\Local\\Packages\\PythonSoftwareFoundation.Python.3.10_qbz5n2kfra8p0\\LocalCache\\local-packages\\Python310\\site-packages\\transformers\\utils\\generic.py:441: UserWarning: torch.utils._pytree._register_pytree_node is deprecated. Please use torch.utils._pytree.register_pytree_node instead.\n",
      "  _torch_pytree._register_pytree_node(\n"
     ]
    }
   ],
   "source": [
    "import os\n",
    "import json\n",
    "import torch\n",
    "from transformers import AutoModelForCausalLM, AutoTokenizer"
   ]
  },
  {
   "cell_type": "code",
   "execution_count": 3,
   "id": "9a7221f8",
   "metadata": {},
   "outputs": [],
   "source": [
    "def load_model(model_dir):\n",
    "    \"\"\"Load model and tokenizer from the given directory.\"\"\"\n",
    "    print(f\"Loading model from {model_dir}...\")\n",
    "    \n",
    "    # Load the tokenizer\n",
    "    tokenizer = AutoTokenizer.from_pretrained(model_dir)\n",
    "    \n",
    "    # Load the model\n",
    "    model = AutoModelForCausalLM.from_pretrained(\n",
    "        model_dir,\n",
    "        device_map=\"auto\",  # Use available GPU or CPU\n",
    "        torch_dtype=torch.float16  # Use half precision to reduce memory usage\n",
    "    )\n",
    "    \n",
    "    print(\"Model loaded successfully!\")\n",
    "    return model, tokenizer"
   ]
  },
  {
   "cell_type": "code",
   "execution_count": 4,
   "id": "11ae85ea",
   "metadata": {},
   "outputs": [],
   "source": [
    "def generate_text(model, tokenizer, prompt, max_length=100):\n",
    "    \"\"\"Generate text based on the prompt.\"\"\"\n",
    "    print(f\"Generating text for prompt: '{prompt}'\")\n",
    "    \n",
    "    # Encode the prompt\n",
    "    inputs = tokenizer(prompt, return_tensors=\"pt\")\n",
    "    \n",
    "    # Move inputs to the same device as the model\n",
    "    inputs = {k: v.to(model.device) for k, v in inputs.items()}\n",
    "    \n",
    "    # Generate text\n",
    "    with torch.no_grad():\n",
    "        output = model.generate(\n",
    "            **inputs,\n",
    "            max_length=max_length,\n",
    "            num_return_sequences=1,\n",
    "            pad_token_id=tokenizer.eos_token_id\n",
    "        )\n",
    "    \n",
    "    # Decode the generated text\n",
    "    generated_text = tokenizer.decode(output[0], skip_special_tokens=True)\n",
    "    return generated_text"
   ]
  },
  {
   "cell_type": "code",
   "execution_count": 5,
   "id": "14cd0ad7",
   "metadata": {},
   "outputs": [],
   "source": [
    "def main():\n",
    "    # Get the model directory\n",
    "    model_dir = os.path.dirname(os.path.abspath(__file__))\n",
    "    \n",
    "    # Load model and tokenizer\n",
    "    model, tokenizer = load_model(model_dir)\n",
    "    \n",
    "    print(\"\\n===== MG MOTOR AI TEXT GENERATOR =====\")\n",
    "    print(\"Type 'exit' to quit the program\")\n",
    "    \n",
    "    # Interactive loop\n",
    "    while True:\n",
    "        user_prompt = input(\"\\nEnter your prompt: \")\n",
    "        \n",
    "        if user_prompt.lower() == 'exit':\n",
    "            print(\"Exiting program...\")\n",
    "            break\n",
    "        \n",
    "        # Generate and display text\n",
    "        generated_text = generate_text(model, tokenizer, user_prompt)\n",
    "        print(\"\\n--- Generated Text ---\")\n",
    "        print(generated_text)\n",
    "        print(\"---------------------\")"
   ]
  },
  {
   "cell_type": "code",
   "execution_count": 6,
   "id": "a9d258a2",
   "metadata": {},
   "outputs": [
    {
     "name": "stdout",
     "output_type": "stream",
     "text": [
      "An error occurred: name '__file__' is not defined\n"
     ]
    }
   ],
   "source": [
    "if __name__ == \"__main__\":\n",
    "    try:\n",
    "        main()\n",
    "    except Exception as e:\n",
    "        print(f\"An error occurred: {e}\")"
   ]
  },
  {
   "cell_type": "code",
   "execution_count": null,
   "id": "91cbc667",
   "metadata": {},
   "outputs": [],
   "source": []
  }
 ],
 "metadata": {
  "kernelspec": {
   "display_name": "Python 3",
   "language": "python",
   "name": "python3"
  },
  "language_info": {
   "codemirror_mode": {
    "name": "ipython",
    "version": 3
   },
   "file_extension": ".py",
   "mimetype": "text/x-python",
   "name": "python",
   "nbconvert_exporter": "python",
   "pygments_lexer": "ipython3",
   "version": "3.10.11"
  }
 },
 "nbformat": 4,
 "nbformat_minor": 5
}
